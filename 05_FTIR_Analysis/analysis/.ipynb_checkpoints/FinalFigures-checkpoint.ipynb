{
 "cells": [
  {
   "cell_type": "code",
   "execution_count": 1,
   "id": "9d01c077-bdfa-4c6c-ac10-2652f6136e53",
   "metadata": {},
   "outputs": [
    {
     "name": "stdout",
     "output_type": "stream",
     "text": [
      "❌ File not found: BTYFTIR_Final.xlsx\n"
     ]
    }
   ],
   "source": [
    "# ============================================\n",
    "# SIMPLIFIED FTIR WORKFLOW FOR PUBLICATION\n",
    "# ============================================\n",
    "\n",
    "import numpy as np\n",
    "import pandas as pd\n",
    "import matplotlib.pyplot as plt\n",
    "import os\n",
    "\n",
    "# ============================================\n",
    "# 1. LOAD DATA\n",
    "# ============================================\n",
    "\n",
    "# Load FTIR data\n",
    "data_file = \"BTYFTIR_Final.xlsx\"\n",
    "\n",
    "# Simple file check\n",
    "if os.path.exists(data_file):\n",
    "    print(f\"✅ Loading data from: {data_file}\")\n",
    "    \n",
    "    # Load the Excel file\n",
    "    ftir_data = pd.read_excel(data_file, header=None)\n",
    "    ftir_data.columns = ['Wavenumber_AsDep', 'Intensity_AsDep', \n",
    "                         'Wavenumber_UV', 'Intensity_UV']\n",
    "    \n",
    "    # Extract arrays\n",
    "    x_asdep = ftir_data['Wavenumber_AsDep'].dropna().values\n",
    "    y_asdep = ftir_data['Intensity_AsDep'].dropna().values\n",
    "    x_uv = ftir_data['Wavenumber_UV'].dropna().values\n",
    "    y_uv = ftir_data['Intensity_UV'].dropna().values\n",
    "    \n",
    "    print(f\"✅ Data loaded: {len(x_asdep)} points\")\n",
    "else:\n",
    "    print(f\"❌ File not found: {data_file}\")"
   ]
  },
  {
   "cell_type": "code",
   "execution_count": null,
   "id": "5621e77a-0b43-423b-ae55-8de0cd64f79d",
   "metadata": {},
   "outputs": [],
   "source": []
  }
 ],
 "metadata": {
  "kernelspec": {
   "display_name": "Python 3 (ipykernel)",
   "language": "python",
   "name": "python3"
  },
  "language_info": {
   "codemirror_mode": {
    "name": "ipython",
    "version": 3
   },
   "file_extension": ".py",
   "mimetype": "text/x-python",
   "name": "python",
   "nbconvert_exporter": "python",
   "pygments_lexer": "ipython3",
   "version": "3.11.13"
  }
 },
 "nbformat": 4,
 "nbformat_minor": 5
}
